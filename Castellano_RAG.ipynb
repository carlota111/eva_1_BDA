{
 "cells": [
  {
   "cell_type": "code",
   "execution_count": 4,
   "metadata": {},
   "outputs": [],
   "source": [
    "import PyPDF2\n",
    "from langchain_huggingface import HuggingFaceEmbeddings\n",
    "from langchain_chroma import Chroma\n",
    "from langchain_ollama.llms import OllamaLLM\n",
    "from langchain.chains import RetrievalQA\n",
    "from langchain.text_splitter import RecursiveCharacterTextSplitter"
   ]
  },
  {
   "cell_type": "code",
   "execution_count": 13,
   "metadata": {},
   "outputs": [],
   "source": [
    "pdf_paths = [\"/home/bigdata/eva1_BDA/PDF/PIMENTON_MAYO.pdf\", \"/home/bigdata/eva1_BDA/PDF/recetas.pdf\"] "
   ]
  },
  {
   "cell_type": "markdown",
   "metadata": {},
   "source": [
    "## Extraer info y dividirla"
   ]
  },
  {
   "cell_type": "code",
   "execution_count": 11,
   "metadata": {},
   "outputs": [],
   "source": [
    "def extraer_info_pdf(pdf_path):\n",
    "    #Extrae el texto de un archivo PDF usando PyPDF2.\n",
    "    text_data = \"\"\n",
    "    try:\n",
    "        with open(pdf_path, \"rb\") as file:\n",
    "            reader = PyPDF2.PdfReader(file)\n",
    "            for page in reader.pages:\n",
    "                text_data += page.extract_text() + \" \"\n",
    "    except Exception as e:\n",
    "        print(f\"Se produjo un error al leer el PDF: {e}\")\n",
    "    \n",
    "    return text_data\n",
    "\n",
    "\n",
    "def dividir_texto(texto):\n",
    "    #Divide el texto en fragmentos manejables para la indexación.\n",
    "    #extrae el texto de los archivos PDF y lo divide en fragmentos de 500 caracteres, con un solapamiento de 50 caracteres,\n",
    "    splitter = RecursiveCharacterTextSplitter(chunk_size=500, chunk_overlap=50)\n",
    "    return splitter.split_text(texto)\n",
    "\n",
    "\n",
    "def extraer_texto_y_dividir_pdf(pdf_path):\n",
    "    #Extrae el texto de un archivo PDF y lo divide en fragmentos.\n",
    "    texto = extraer_info_pdf(pdf_path)\n",
    "    if not texto:\n",
    "        print(\"El texto del PDF estaba vacío\")\n",
    "        texto = []\n",
    "    \n",
    "    return dividir_texto(texto)\n",
    "\n",
    "def extraer_y_dividir_texto_de_pdfs(pdf_paths):\n",
    "    #Une los dos pdf divididos\n",
    "    all_chunks = []\n",
    "    for pdf_path in pdf_paths:\n",
    "        chunks = extraer_texto_y_dividir_pdf(pdf_path)\n",
    "        all_chunks.extend(chunks)  # Unir todos los fragmentos de los diferentes PDFs\n",
    "    return all_chunks"
   ]
  },
  {
   "cell_type": "markdown",
   "metadata": {},
   "source": [
    "## Crear embeddings y vectorstore"
   ]
  },
  {
   "cell_type": "code",
   "execution_count": 17,
   "metadata": {},
   "outputs": [],
   "source": [
    "embeddings = HuggingFaceEmbeddings(model_name=\"sentence-transformers/all-MiniLM-L6-v2\")\n",
    "\n",
    "chunks = extraer_y_dividir_texto_de_pdfs(pdf_paths)\n",
    "\n",
    "vectorstore = Chroma.from_texts(\n",
    "        texts=chunks,\n",
    "        collection_name=\"pdf_data\",\n",
    "        embedding=embeddings,\n",
    "        persist_directory=\"./vectorstoreCastellano\"\n",
    "    )"
   ]
  },
  {
   "cell_type": "markdown",
   "metadata": {},
   "source": [
    "## Hacer consultas a Ollama"
   ]
  },
  {
   "cell_type": "code",
   "execution_count": 14,
   "metadata": {},
   "outputs": [],
   "source": [
    "llm = OllamaLLM(model=\"llama3.2\", server_url=\"http://localhost:11434\")\n",
    "\n",
    "# Función para realizar una consulta al vector store\n",
    "def realizar_consulta(vectorstore, consulta):\n",
    "    retriever = vectorstore.as_retriever()\n",
    "    qa_chain = RetrievalQA.from_chain_type(llm=llm, retriever=retriever)\n",
    "    respuesta = qa_chain.run(consulta)\n",
    "    return respuesta"
   ]
  },
  {
   "cell_type": "code",
   "execution_count": 19,
   "metadata": {},
   "outputs": [
    {
     "name": "stdout",
     "output_type": "stream",
     "text": [
      "Respuesta: Claro, te resumiré cómo se hace el pulpo a la gallega:\n",
      "\n",
      "1. Retira el pulpo del fuego y reserva.\n",
      "2. Prepara las patatas picadas (en rodajas o trozos) y colócalas en el fondo del plato.\n",
      "3. Corta los tentáculos en trozos de 1-2 cm y colócalos sobre las patatas.\n",
      "4. Añade sal al gusto.\n",
      "5. Mezcla pimentón picante y dulce en partes iguales y espolvorea por encima del pulpo.\n",
      "6. Repite el proceso para los otros cuatro pulpos (en diferentes partes).\n",
      "7. Una vez que todos los pulpos estén fritos, colócalos en el horno a 100°C hasta la hora de servir.\n",
      "8. Prepara una salsa de ajo y cebolla pochada con coñac, luego tritura y cuela para obtener una salsa lista para usar.\n",
      "9. Limpia y trocea las litiruelas para evitar que salpiquen en la sartén al freírlos.\n",
      "\n",
      "Espero que esto te ayude a preparar un delicioso pulpo a la gallega.\n"
     ]
    }
   ],
   "source": [
    "# Ejemplo de consulta pdf PIMENTON_MAYO\n",
    "consulta = \"¿Resumeme como se hace el pulpo a la gallega?\"\n",
    "respuesta = realizar_consulta(vectorstore, consulta)\n",
    "print(f\"Respuesta: {respuesta}\")"
   ]
  },
  {
   "cell_type": "code",
   "execution_count": 18,
   "metadata": {},
   "outputs": [
    {
     "name": "stdout",
     "output_type": "stream",
     "text": [
      "Respuesta: No tengo suficiente información para resumir exactamente cómo se hace el cordero asado. El texto proporcionado parece ser un paso a paso general sin mencionar específicamente la receta de cordero asado.\n",
      "\n",
      "Sin embargo, puedo intentar resumir lo que se menciona en el texto:\n",
      "\n",
      "* Se fritan las antenas del cordero en una sartén con aceite hasta que estén doradas.\n",
      "* Se cocina el cordero en el horno a 100°C durante una hora y media.\n",
      "* Se prepara una salsa con ajo, cebolla, coñac, vinagre de vino y agua.\n",
      "* Se rocía la pierna del cordero con una mezcla de ajo machacado, aceite y vinagre de vino.\n",
      "\n",
      "Espero que esto te sea útil. Si tienes alguna otra pregunta o necesitas más información, no dudes en preguntar.\n"
     ]
    }
   ],
   "source": [
    "# Ejemplo de consulta pdf recetas\n",
    "consulta = \"¿Resumeme como se hace el cordero asado?\"\n",
    "respuesta = realizar_consulta(vectorstore, consulta)\n",
    "print(f\"Respuesta: {respuesta}\")"
   ]
  }
 ],
 "metadata": {
  "kernelspec": {
   "display_name": "rag",
   "language": "python",
   "name": "python3"
  },
  "language_info": {
   "codemirror_mode": {
    "name": "ipython",
    "version": 3
   },
   "file_extension": ".py",
   "mimetype": "text/x-python",
   "name": "python",
   "nbconvert_exporter": "python",
   "pygments_lexer": "ipython3",
   "version": "3.13.1"
  }
 },
 "nbformat": 4,
 "nbformat_minor": 2
}
