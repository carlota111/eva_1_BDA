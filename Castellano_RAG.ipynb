{
 "cells": [
  {
   "cell_type": "code",
   "execution_count": 1,
   "metadata": {},
   "outputs": [],
   "source": [
    "import PyPDF2\n",
    "from langchain_huggingface import HuggingFaceEmbeddings\n",
    "from langchain_chroma import Chroma\n",
    "from langchain_ollama.llms import OllamaLLM\n",
    "from langchain.chains import RetrievalQA\n",
    "from langchain.text_splitter import RecursiveCharacterTextSplitter\n",
    "from langchain.prompts import ChatPromptTemplate"
   ]
  },
  {
   "cell_type": "code",
   "execution_count": 2,
   "metadata": {},
   "outputs": [],
   "source": [
    "pdf_paths = [\"/home/bigdata/eva_1_BDA/PDF/PIMENTON_MAYO.pdf\", \"/home/bigdata/eva_1_BDA/PDF/recetas.pdf\"] "
   ]
  },
  {
   "cell_type": "markdown",
   "metadata": {},
   "source": [
    "## Extraer info y dividirla"
   ]
  },
  {
   "cell_type": "code",
   "execution_count": 3,
   "metadata": {},
   "outputs": [],
   "source": [
    "def extraer_info_pdf(pdf_path):\n",
    "    #Extrae el texto de un archivo PDF usando PyPDF2.\n",
    "    text_data = \"\"\n",
    "    try:\n",
    "        with open(pdf_path, \"rb\") as file:\n",
    "            reader = PyPDF2.PdfReader(file)\n",
    "            for page in reader.pages:\n",
    "                text_data += page.extract_text() + \" \"\n",
    "    except Exception as e:\n",
    "        print(f\"Se produjo un error al leer el PDF: {e}\")\n",
    "    \n",
    "    return text_data\n",
    "\n",
    "\n",
    "def dividir_texto(texto):\n",
    "    #Divide el texto en fragmentos manejables para la indexación.\n",
    "    #extrae el texto de los archivos PDF y lo divide en fragmentos de 500 caracteres, con un solapamiento de 50 caracteres,\n",
    "    splitter = RecursiveCharacterTextSplitter(chunk_size=500, chunk_overlap=50)\n",
    "    return splitter.split_text(texto)\n",
    "\n",
    "\n",
    "def extraer_texto_y_dividir_pdf(pdf_path):\n",
    "    #Extrae el texto de un archivo PDF y lo divide en fragmentos.\n",
    "    texto = extraer_info_pdf(pdf_path)\n",
    "    if not texto:\n",
    "        print(\"El texto del PDF estaba vacío\")\n",
    "        texto = []\n",
    "    \n",
    "    return dividir_texto(texto)\n",
    "\n",
    "def extraer_y_dividir_texto_de_pdfs(pdf_paths):\n",
    "    #Une los dos pdf divididos\n",
    "    all_chunks = []\n",
    "    for pdf_path in pdf_paths:\n",
    "        chunks = extraer_texto_y_dividir_pdf(pdf_path)\n",
    "        all_chunks.extend(chunks)  # Unir todos los fragmentos de los diferentes PDFs\n",
    "    return all_chunks"
   ]
  },
  {
   "cell_type": "markdown",
   "metadata": {},
   "source": [
    "## Crear embeddings y vectorstore"
   ]
  },
  {
   "cell_type": "code",
   "execution_count": 4,
   "metadata": {},
   "outputs": [
    {
     "name": "stderr",
     "output_type": "stream",
     "text": [
      "/home/bigdata/miniconda3/envs/rag/lib/python3.13/site-packages/tqdm/auto.py:21: TqdmWarning: IProgress not found. Please update jupyter and ipywidgets. See https://ipywidgets.readthedocs.io/en/stable/user_install.html\n",
      "  from .autonotebook import tqdm as notebook_tqdm\n"
     ]
    }
   ],
   "source": [
    "embeddings = HuggingFaceEmbeddings(model_name=\"sentence-transformers/all-MiniLM-L6-v2\")\n",
    "\n",
    "chunks = extraer_y_dividir_texto_de_pdfs(pdf_paths)\n",
    "\n",
    "vectorstore = Chroma.from_texts(\n",
    "        texts=chunks,\n",
    "        collection_name=\"pdf_data\",\n",
    "        embedding=embeddings,\n",
    "        persist_directory=\"./vectorstoreCastellano\"\n",
    "    )"
   ]
  },
  {
   "cell_type": "markdown",
   "metadata": {},
   "source": [
    "## Hacer consultas a Ollama"
   ]
  },
  {
   "cell_type": "code",
   "execution_count": 5,
   "metadata": {},
   "outputs": [],
   "source": [
    "llm = OllamaLLM(model=\"llama3.2\", server_url=\"http://localhost:11434\")\n",
    "\n",
    "# Crear el prompt para la cadena de preguntas y respuestas\n",
    "prompt = ChatPromptTemplate.from_template(\n",
    "    template= \"Use el contexto proporcionado en los siguientes PDFs para responder a la pregunta del usuario:\"\n",
    "        \"\\n\\n{context}\\n\\nPregunta: {question}\\nRespuesta:\"\n",
    ")\n",
    "\n",
    "# Función para realizar una consulta al vector store\n",
    "def realizar_consulta(vectorstore, consulta):\n",
    "    retriever = vectorstore.as_retriever()\n",
    "    qa_chain = RetrievalQA.from_chain_type(llm=llm, retriever=retriever, chain_type_kwargs={\"prompt\": prompt})\n",
    "    respuesta = qa_chain.run(consulta)\n",
    "    return respuesta"
   ]
  },
  {
   "cell_type": "code",
   "execution_count": 10,
   "metadata": {},
   "outputs": [
    {
     "name": "stdout",
     "output_type": "stream",
     "text": [
      "Respuesta: Para elaborar el plato de Pulpo a la Gallega, sigue los siguientes pasos:\n",
      "\n",
      "1. Retira el pulpo del fuego y reserva.\n",
      "2. Para servir, coloca las patatas picadas (preferiblemente en rodajas) cubriendo toda la base del plato.\n",
      "3. Corta los tentáculos en trozos de más o menos 1 cm y colócalos sobre las patatas. Añade sal al gusto.\n",
      "4. Mezcla el pimentón picante y dulce en partes iguales y espolvorea por encima del pulpo.\n",
      "\n",
      "Además, debes seguir la elaboración específica:\n",
      "\n",
      "- En una olla con agua hirviendo, introduce el pulpo durante 5 segundos (unas 3 o 4 veces seguidas) para evitar perder la piel y que los tentáculos se ericen.\n",
      "- Una vez hecho esto, déjalo en el agua hirviendo y tápalo durante 35-45 minutos a fuego medio.\n"
     ]
    }
   ],
   "source": [
    "# Ejemplo de consulta pdf PIMENTON_MAYO\n",
    "consulta = \"Elaboración de pulpo completa\"\n",
    "respuesta = realizar_consulta(vectorstore, consulta)\n",
    "print(f\"Respuesta: {respuesta}\")"
   ]
  },
  {
   "cell_type": "code",
   "execution_count": 9,
   "metadata": {},
   "outputs": [
    {
     "name": "stdout",
     "output_type": "stream",
     "text": [
      "Respuesta: Los ingredientes del \"Cordero al horno con manzana\" son:\n",
      "\n",
      "* Una paletilla de corder o de unos 1,800 grs. -2 kilos\n",
      "* 2 tomates maduros\n",
      "* 1 cebolla\n",
      "* 20 dátiles sin hueso\n",
      "* 1 manzana reineta\n",
      "* Media cucharada de tomillo\n",
      "* Un vaso de vino blanco o coñac\n",
      "* Aceite, sal y pimienta\n"
     ]
    }
   ],
   "source": [
    "# Ejemplo de consulta pdf recetas\n",
    "consulta = \"Ingredientes de cordero al horno con manzana\"\n",
    "respuesta = realizar_consulta(vectorstore, consulta)\n",
    "print(f\"Respuesta: {respuesta}\")"
   ]
  }
 ],
 "metadata": {
  "kernelspec": {
   "display_name": "rag",
   "language": "python",
   "name": "python3"
  },
  "language_info": {
   "codemirror_mode": {
    "name": "ipython",
    "version": 3
   },
   "file_extension": ".py",
   "mimetype": "text/x-python",
   "name": "python",
   "nbconvert_exporter": "python",
   "pygments_lexer": "ipython3",
   "version": "3.13.1"
  }
 },
 "nbformat": 4,
 "nbformat_minor": 2
}
