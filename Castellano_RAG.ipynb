{
 "cells": [
  {
   "cell_type": "code",
   "execution_count": 16,
   "metadata": {},
   "outputs": [],
   "source": [
    "import PyPDF2\n",
    "from langchain_huggingface import HuggingFaceEmbeddings\n",
    "from langchain_chroma import Chroma\n",
    "from langchain_ollama.llms import OllamaLLM\n",
    "from langchain.chains import RetrievalQA\n",
    "from langchain.text_splitter import RecursiveCharacterTextSplitter"
   ]
  },
  {
   "cell_type": "code",
   "execution_count": 17,
   "metadata": {},
   "outputs": [],
   "source": [
    "pdf_paths = [\"/home/bigdata/eva_1_BDA/PDF/PIMENTON_MAYO.pdf\", \"/home/bigdata/eva_1_BDA/PDF/recetas.pdf\"] "
   ]
  },
  {
   "cell_type": "markdown",
   "metadata": {},
   "source": [
    "## Extraer info y dividirla"
   ]
  },
  {
   "cell_type": "code",
   "execution_count": 18,
   "metadata": {},
   "outputs": [],
   "source": [
    "def extraer_info_pdf(pdf_path):\n",
    "    #Extrae el texto de un archivo PDF usando PyPDF2.\n",
    "    text_data = \"\"\n",
    "    try:\n",
    "        with open(pdf_path, \"rb\") as file:\n",
    "            reader = PyPDF2.PdfReader(file)\n",
    "            for page in reader.pages:\n",
    "                text_data += page.extract_text() + \" \"\n",
    "    except Exception as e:\n",
    "        print(f\"Se produjo un error al leer el PDF: {e}\")\n",
    "    \n",
    "    return text_data\n",
    "\n",
    "\n",
    "def dividir_texto(texto):\n",
    "    #Divide el texto en fragmentos manejables para la indexación.\n",
    "    #extrae el texto de los archivos PDF y lo divide en fragmentos de 500 caracteres, con un solapamiento de 50 caracteres,\n",
    "    splitter = RecursiveCharacterTextSplitter(chunk_size=500, chunk_overlap=50)\n",
    "    return splitter.split_text(texto)\n",
    "\n",
    "\n",
    "def extraer_texto_y_dividir_pdf(pdf_path):\n",
    "    #Extrae el texto de un archivo PDF y lo divide en fragmentos.\n",
    "    texto = extraer_info_pdf(pdf_path)\n",
    "    if not texto:\n",
    "        print(\"El texto del PDF estaba vacío\")\n",
    "        texto = []\n",
    "    \n",
    "    return dividir_texto(texto)\n",
    "\n",
    "def extraer_y_dividir_texto_de_pdfs(pdf_paths):\n",
    "    #Une los dos pdf divididos\n",
    "    all_chunks = []\n",
    "    for pdf_path in pdf_paths:\n",
    "        chunks = extraer_texto_y_dividir_pdf(pdf_path)\n",
    "        all_chunks.extend(chunks)  # Unir todos los fragmentos de los diferentes PDFs\n",
    "    return all_chunks"
   ]
  },
  {
   "cell_type": "markdown",
   "metadata": {},
   "source": [
    "## Crear embeddings y vectorstore"
   ]
  },
  {
   "cell_type": "code",
   "execution_count": 19,
   "metadata": {},
   "outputs": [],
   "source": [
    "embeddings = HuggingFaceEmbeddings(model_name=\"sentence-transformers/all-MiniLM-L6-v2\")\n",
    "\n",
    "chunks = extraer_y_dividir_texto_de_pdfs(pdf_paths)\n",
    "\n",
    "vectorstore = Chroma.from_texts(\n",
    "        texts=chunks,\n",
    "        collection_name=\"pdf_data\",\n",
    "        embedding=embeddings,\n",
    "        persist_directory=\"./vectorstoreCastellano\"\n",
    "    )"
   ]
  },
  {
   "cell_type": "markdown",
   "metadata": {},
   "source": [
    "## Hacer consultas a Ollama"
   ]
  },
  {
   "cell_type": "code",
   "execution_count": 20,
   "metadata": {},
   "outputs": [],
   "source": [
    "llm = OllamaLLM(model=\"llama3.2\", server_url=\"http://localhost:11434\")\n",
    "\n",
    "# Función para realizar una consulta al vector store\n",
    "def realizar_consulta(vectorstore, consulta):\n",
    "    retriever = vectorstore.as_retriever()\n",
    "    qa_chain = RetrievalQA.from_chain_type(llm=llm, retriever=retriever)\n",
    "    respuesta = qa_chain.run(consulta)\n",
    "    return respuesta"
   ]
  },
  {
   "cell_type": "code",
   "execution_count": 21,
   "metadata": {},
   "outputs": [
    {
     "name": "stderr",
     "output_type": "stream",
     "text": [
      "/tmp/ipykernel_90009/428516605.py:7: LangChainDeprecationWarning: The method `Chain.run` was deprecated in langchain 0.1.0 and will be removed in 1.0. Use :meth:`~invoke` instead.\n",
      "  respuesta = qa_chain.run(consulta)\n"
     ]
    },
    {
     "name": "stdout",
     "output_type": "stream",
     "text": [
      "Respuesta: Claro que sí, te resumiré los pasos para preparar el pulpo a la gallega:\n",
      "\n",
      "1. Retira el pulpo del fuego y reserva.\n",
      "2. Corta los tentáculos en trozos de 1 cm y colócalos sobre las patatas picadas (rodajas) en un plato, cubriendo toda la base.\n",
      "3. Añade sal al gusto.\n",
      "4. Mezcla pimentón picante y dulce en partes iguales y espolvorea por encima del pulpo.\n",
      "5. Limpia y trocea las litiruelas (no se menciona qué es esto, pero se supone que es algo a agregar al plato).\n",
      "6. Prepara la salsa: pica el ajo y la cebolla, pocha en una cazuelita con aceite, agrega coñac y reduce, tritura y cuela.\n",
      "7. Enfria el pulpo y separa la cabeza del cuerpo.\n",
      "8. Cuela las patatas (las que se cocinan en el mismo agua que el pulpo) y colócalas sobre el plato con el pulpo.\n",
      "9. Una vez que estén listos, hornea todas las porciones juntas a 100°C durante unos minutos para calentarlas.\n",
      "\n",
      "Espero que esto te ayude a preparar un delicioso pulpo a la gallega.\n"
     ]
    }
   ],
   "source": [
    "# Ejemplo de consulta pdf PIMENTON_MAYO\n",
    "consulta = \"¿Resumeme como se hace el pulpo a la gallega?\"\n",
    "respuesta = realizar_consulta(vectorstore, consulta)\n",
    "print(f\"Respuesta: {respuesta}\")"
   ]
  },
  {
   "cell_type": "code",
   "execution_count": 24,
   "metadata": {},
   "outputs": [
    {
     "name": "stdout",
     "output_type": "stream",
     "text": [
      "Respuesta: No puedo proporcionarte una respuesta detallada a esta pregunta sin más contexto, pero puedo resumir los pasos generales para hacer un cordero asado:\n",
      "\n",
      "1. Preparar el cordero: Se limpia y se pone la carne de la pierna con una mezcla de ajos machacados, vinagre y aceite.\n",
      "2. Preparar la salsa: Se cocina la salsa con coñac, ajo y cebolla, y luego se tritura y se reserva.\n",
      "3. Freír las litiruelas: Se limpian y se cortan en cachitos pequeños, luego se fríen en aceite caliente hasta que estén crujientes.\n",
      "4. Preparar la salsa para el cordero: Se cocina la salsa con harina, pimentón y caldo de carne, y luego se añade el chorizo y las patas del cordero.\n",
      "5. Asar el cordero: Se coloca en una bandeja de horno con las verduras y se asa a 100ºC durante un tiempo.\n",
      "6. Saltear la salsa: Se agrega la pasta cocida a la sartén con las verduras y la salsa, y luego se saltea hasta que esté bien combinado.\n",
      "\n",
      "Espero que esto te sea útil. Si tienes alguna pregunta adicional, no dudes en preguntar.\n"
     ]
    }
   ],
   "source": [
    "# Ejemplo de consulta pdf recetas\n",
    "consulta = \"¿Resumeme como se hace el cordero asado?\"\n",
    "respuesta = realizar_consulta(vectorstore, consulta)\n",
    "print(f\"Respuesta: {respuesta}\")"
   ]
  }
 ],
 "metadata": {
  "kernelspec": {
   "display_name": "rag",
   "language": "python",
   "name": "python3"
  },
  "language_info": {
   "codemirror_mode": {
    "name": "ipython",
    "version": 3
   },
   "file_extension": ".py",
   "mimetype": "text/x-python",
   "name": "python",
   "nbconvert_exporter": "python",
   "pygments_lexer": "ipython3",
   "version": "3.13.1"
  }
 },
 "nbformat": 4,
 "nbformat_minor": 2
}
