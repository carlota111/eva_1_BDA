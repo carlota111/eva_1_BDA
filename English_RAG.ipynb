{
 "cells": [
  {
   "cell_type": "code",
   "execution_count": 12,
   "metadata": {},
   "outputs": [],
   "source": [
    "import requests\n",
    "from bs4 import BeautifulSoup\n",
    "from langchain_huggingface import HuggingFaceEmbeddings\n",
    "from langchain_chroma import Chroma\n",
    "from langchain_ollama.llms import OllamaLLM\n",
    "from langchain.chains import RetrievalQA\n",
    "from langchain.text_splitter import RecursiveCharacterTextSplitter\n",
    "import gradio as gr"
   ]
  },
  {
   "cell_type": "code",
   "execution_count": 2,
   "metadata": {},
   "outputs": [],
   "source": [
    "# URL de la página web\n",
    "url = \"https://www.inspiredtaste.net/24593/essential-pancake-recipe/\""
   ]
  },
  {
   "cell_type": "markdown",
   "metadata": {},
   "source": [
    "## Extraer info y dividirla"
   ]
  },
  {
   "cell_type": "code",
   "execution_count": 3,
   "metadata": {},
   "outputs": [],
   "source": [
    "def extraer_info_url(url):\n",
    "    #Conectarme a la página web y extraer la información\n",
    "    text_data = \"\"\n",
    "    try:\n",
    "        response = requests.get(url)\n",
    "        if response.status_code == 200:\n",
    "            soup = BeautifulSoup(response.text, 'html.parser')\n",
    "            text_data = \" \".join([p.text for p in soup.find_all('p')])\n",
    "        else:\n",
    "            print(f\"Error al acceder a la página, código de estado: {response.status_code}\")\n",
    "    except requests.RequestException as e:\n",
    "        print(f\"Se produjo un error durante la solicitud HTTP: {e}\")\n",
    "    \n",
    "    return text_data \n",
    "\n",
    "def dividir_texto(texto):\n",
    "    #Divide el texto en fragmentos manejables para la indexación.\n",
    "    splitter = RecursiveCharacterTextSplitter(chunk_size=500, chunk_overlap=50)\n",
    "    return splitter.split_text(texto)\n",
    "\n",
    "\n",
    "def extraer_texto_y_dividir(url):\n",
    "    #Extrae el texto de una página web y lo divide en fragmentos.\n",
    "    texto = extraer_info_url(url)\n",
    "    if not texto:\n",
    "        print(\"El texto estaba vacío\")\n",
    "        texto = []\n",
    "    \n",
    "    return dividir_texto(texto)"
   ]
  },
  {
   "cell_type": "markdown",
   "metadata": {},
   "source": [
    "## Crear embeddings y vectorstore"
   ]
  },
  {
   "cell_type": "code",
   "execution_count": 4,
   "metadata": {},
   "outputs": [],
   "source": [
    "embeddings = HuggingFaceEmbeddings(model_name=\"sentence-transformers/all-MiniLM-L6-v2\")\n",
    "\n",
    "chunks = extraer_texto_y_dividir(url)\n",
    "\n",
    "vectorstore = Chroma.from_texts(\n",
    "    texts=chunks,\n",
    "    collection_name=\"web_data\",\n",
    "    embedding=embeddings,\n",
    "    persist_directory=\"./vectorstoreIngles\"\n",
    ")"
   ]
  },
  {
   "cell_type": "markdown",
   "metadata": {},
   "source": [
    "## Hacer consultas a Ollama"
   ]
  },
  {
   "cell_type": "code",
   "execution_count": 7,
   "metadata": {},
   "outputs": [],
   "source": [
    "llm = OllamaLLM(model=\"llama3.2\", server_url=\"http://localhost:11434\")  \n",
    "\n",
    "def realizar_consulta(vectorstore, consulta):\n",
    "    #Realiza una consulta al vector store utilizando un modelo LLM.\n",
    "    \n",
    "    retriever = vectorstore.as_retriever()\n",
    "    qa_chain = RetrievalQA.from_chain_type(llm=llm, retriever=retriever)\n",
    "    respuesta = qa_chain.invoke(consulta)\n",
    "    return respuesta"
   ]
  },
  {
   "cell_type": "code",
   "execution_count": 13,
   "metadata": {},
   "outputs": [
    {
     "name": "stdout",
     "output_type": "stream",
     "text": [
      "Respuesta: {'query': 'how to make the best homemade pancake ?', 'result': 'Based on the provided context, it seems that the key to making the best homemade pancakes is to achieve \"crispy edges\" and \"thick and fluffy\" textures. The tips include:\\n\\n* Using a quality nonstick pan (optional)\\n* Scooping batter into a 4-inch circle using a 1/4 cup measure or large cookie scoop\\n* Cooking for 1-2 minutes on each side, until the edges look dry and bubbles appear and pop on the surface\\n* Serving immediately with warm syrup, butter, and berries\\n* Storing pancakes in an airtight container in the fridge for up to a certain time.\\n\\nHowever, I don\\'t know any specific secrets or additional tips beyond what\\'s provided in this context.'}\n"
     ]
    }
   ],
   "source": [
    "# Ejemplo de consulta\n",
    "consulta = \"how to make the best homemade pancake ?\"\n",
    "if vectorstore:\n",
    "    respuesta = realizar_consulta(vectorstore, consulta)\n",
    "    print(f\"Respuesta: {respuesta}\")"
   ]
  },
  {
   "cell_type": "code",
   "execution_count": 10,
   "metadata": {},
   "outputs": [],
   "source": [
    "# Función de búsqueda\n",
    "def search_chroma(query, top_k):\n",
    "    try:\n",
    "        respuesta = realizar_consulta(vectorstore, query)  # Aquí asumes que `realizar_consulta` está definida\n",
    "        return respuesta\n",
    "    except Exception as e:\n",
    "        return f\"Error en la búsqueda: {str(e)}\""
   ]
  },
  {
   "cell_type": "markdown",
   "metadata": {},
   "source": [
    "## Interfaz gráfica GUI"
   ]
  },
  {
   "cell_type": "code",
   "execution_count": 11,
   "metadata": {},
   "outputs": [
    {
     "name": "stderr",
     "output_type": "stream",
     "text": [
      "/home/bigdata/miniconda3/envs/rag/lib/python3.13/site-packages/gradio/blocks.py:1048: UserWarning: Cannot load huggingface. Caught Exception: 404 Client Error: Not Found for url: https://huggingface.co/api/spaces/huggingface (Request ID: Root=1-6761daed-7ff9ca007a148b9f34553f29;f0a50f14-c8dd-4f05-a26b-4c2084338ec3)\n",
      "\n",
      "Sorry, we can't find the page you are looking for.\n",
      "  warnings.warn(f\"Cannot load {theme}. Caught Exception: {str(e)}\")\n"
     ]
    },
    {
     "name": "stdout",
     "output_type": "stream",
     "text": [
      "* Running on local URL:  http://127.0.0.1:7860\n",
      "* Running on public URL: https://9e8ea0e942aa3041e0.gradio.live\n",
      "\n",
      "This share link expires in 72 hours. For free permanent hosting and GPU upgrades, run `gradio deploy` from the terminal in the working directory to deploy to Hugging Face Spaces (https://huggingface.co/spaces)\n"
     ]
    },
    {
     "data": {
      "text/html": [
       "<div><iframe src=\"https://9e8ea0e942aa3041e0.gradio.live\" width=\"100%\" height=\"500\" allow=\"autoplay; camera; microphone; clipboard-read; clipboard-write;\" frameborder=\"0\" allowfullscreen></iframe></div>"
      ],
      "text/plain": [
       "<IPython.core.display.HTML object>"
      ]
     },
     "metadata": {},
     "output_type": "display_data"
    },
    {
     "data": {
      "text/plain": []
     },
     "execution_count": 11,
     "metadata": {},
     "output_type": "execute_result"
    }
   ],
   "source": [
    "# Interfaz\n",
    "with gr.Blocks(theme=\"huggingface\") as demo:\n",
    "    # Título y descripción\n",
    "    gr.Markdown(\"\"\"\n",
    "        # RAG Search Application\n",
    "        This app allows you to query a vector store based on content extracted from a webpage.\n",
    "        Enter your query below and select the number of results you'd like to see.\n",
    "    \"\"\")\n",
    "    \n",
    "    with gr.Row():\n",
    "        query_input = gr.Textbox(label=\"Enter Your Query\", placeholder=\"Type your question here...\", elem_id=\"query-box\")\n",
    "        top_k_input = gr.Slider(1, 10, step=1, value=5, label=\"Number of Results\")\n",
    "\n",
    "    # Botón de búsqueda con diseño personalizado\n",
    "    with gr.Row():\n",
    "        search_button = gr.Button(\"Search\", elem_id=\"search-button\", variant=\"primary\")\n",
    "    \n",
    "    # Resultados con formato mejorado\n",
    "    output_box = gr.Textbox(label=\"Search Results\", lines=15, elem_id=\"results-box\")\n",
    "\n",
    "    # Mostrar mensaje de carga mientras se procesa la consulta\n",
    "    with gr.Column():\n",
    "        gr.Markdown(\"#### Example Queries:\")\n",
    "        gr.Markdown(\"\"\"\n",
    "            - How to make the best homemade pancake?\n",
    "            - Tell me the ingredients of the recipe.\n",
    "        \"\"\")\n",
    "\n",
    "    # Asociar la función de búsqueda con el botón\n",
    "    search_button.click(fn=search_chroma, inputs=[query_input, top_k_input], outputs=output_box)\n",
    "    \n",
    "    # Agregar una acción de \"limpiar\" para el campo de resultados\n",
    "    clear_button = gr.Button(\"Clear\", elem_id=\"clear-button\")\n",
    "    clear_button.click(lambda: \"\", None, output_box)\n",
    "\n",
    "# Lanzar la interfaz\n",
    "demo.launch(debug=False, share=True)"
   ]
  }
 ],
 "metadata": {
  "kernelspec": {
   "display_name": "rag",
   "language": "python",
   "name": "python3"
  },
  "language_info": {
   "codemirror_mode": {
    "name": "ipython",
    "version": 3
   },
   "file_extension": ".py",
   "mimetype": "text/x-python",
   "name": "python",
   "nbconvert_exporter": "python",
   "pygments_lexer": "ipython3",
   "version": "3.13.1"
  }
 },
 "nbformat": 4,
 "nbformat_minor": 2
}
